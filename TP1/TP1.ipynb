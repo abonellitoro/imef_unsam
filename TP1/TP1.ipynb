{
 "cells": [
  {
   "cell_type": "markdown",
   "metadata": {},
   "source": [
    "# Introducción al Método de Elementos Finitos\n",
    "## Trabajo práctico 1\n",
    "\n"
   ]
  },
  {
   "cell_type": "markdown",
   "metadata": {},
   "source": [
    "Utilice una malla uniforme de tres elementos finitos para resolver la ecuación diferencial:\n",
    "\n",
    "$$\n",
    "\\frac{d^2u}{dx^2} + 4u = x^2\n",
    "$$\n",
    "\n",
    "$$\n",
    "0<x<1\n",
    "$$\n",
    "\n",
    "Condiciones de contorno:\n",
    "\n",
    "a. $u(0) = 0$, $u(1)=0$\n",
    "\n",
    "b. $u(0) = 0$, $u'(1)=0$\n",
    "\n",
    "\n",
    "\n",
    "\n",
    "Genericamente teníamos:\n",
    "\n",
    "$$\n",
    "- a \\frac{d^2 u}{dx^2} + cu - h = 0\n",
    "$$\n",
    "\n",
    "$a = 1$\n",
    "\n",
    "$c = 4$\n",
    "\n",
    "$h = x^2$\n",
    "\n"
   ]
  },
  {
   "cell_type": "markdown",
   "metadata": {},
   "source": [
    "Lo que tenemos (matricialmente) es:\n",
    "\n",
    " $$\n",
    " K U = f - T \n",
    " $$\n",
    " \n",
    " Por lo tanto, tenemos que calcular \n",
    " \n",
    " $$\n",
    " U = K^{-1} (f-T)\n",
    " $$\n",
    " \n",
    " Pero primero, la solución analística\n",
    " \n",
    " \n",
    " # Primera duda: qué valor tienen las constantes A y B?"
   ]
  },
  {
   "cell_type": "code",
   "execution_count": 40,
   "metadata": {},
   "outputs": [
    {
     "data": {
      "image/png": "[encoded data removed]",
      "text/plain": [
       "<Figure size 432x288 with 1 Axes>"
      ]
     },
     "metadata": {
      "needs_background": "light"
     },
     "output_type": "display_data"
    }
   ],
   "source": [
    "import numpy as np\n",
    "import matplotlib.pyplot as plt\n",
    "\n",
    "A = 1\n",
    "B = 1\n",
    "\n",
    "x = np.linspace(0,1,100)\n",
    "y = A*np.cos(2*x) + B*np.sin(2*x) + 1/4*x**2 - 1/8\n",
    "\n",
    "plt.plot(x,y, '-o')\n",
    "plt.show()"
   ]
  },
  {
   "cell_type": "markdown",
   "metadata": {},
   "source": [
    "Ahora construimos la matriz $K$ y el vector $f$\n",
    "\n",
    "La matriz $K$ es igual a la vista en clase ya que utilizamos dos nodos en cada elemento. Lo que varían es la cantidad de elementos utilizados. \n",
    "\n",
    "En cambio dado que el parámetro anteriormente denominado $h$ no es constante, se debe calcular la matriz $f^e$ de cada elemento para luego obtener el vector $f$.\n",
    "\n",
    "$$ \n",
    "f_1 = \\frac{1}{L^e} [\\frac{x_B}{3} x^3 -\\frac{1}{4} x^4] \n",
    "$$\n",
    "\n",
    "$$ \n",
    "f_2 = \\frac{1}{L^e} [\\frac{1}{4} x^4 - \\frac{x_A}{3} x^3] \n",
    "$$\n"
   ]
  },
  {
   "cell_type": "code",
   "execution_count": 41,
   "metadata": {},
   "outputs": [],
   "source": [
    "nelementos = 3 # Cantidad total de elementos\n",
    "nodos_x_elem = 2\n",
    "nnodos = (nodos_x_elem-1)*nelementos+1 # Cantidad total de nodos\n",
    "\n",
    "L = 1.0 # longitud total del dominio\n",
    "L_e = L/nelementos # longitud de un elemento\n",
    "\n",
    "#     k_conduc = 1.0 # k = a ; c = 0;\n",
    "#     H = 16.0*k_conduc # H/k = 16.0;\n",
    "#     t0 = 50.0\n",
    "#     tl = 10.0\n",
    "\n",
    "#     #coorx = [0.0 l_e 2*l_e 3*l_e 4*l_e];\n",
    "coorx = []\n",
    "for i in range(nnodos):\n",
    "    coorx.append(i*L_e)\n",
    "\n",
    "\n",
    "k = -1/L_e * np.array([[ 1, -1,  0,  0],\n",
    "                     [-1,  2, -1,  0],\n",
    "                     [ 0, -1,  2, -1],\n",
    "                     [ 0,  0,  -1,  1]])\n",
    "\n",
    "\n",
    "f1s = []\n",
    "f2s = []\n",
    "for i in range(nelementos):\n",
    "    x_A = coorx[i]\n",
    "    x_B = coorx[i+1]\n",
    "    \n",
    "    f1_x_A = 1/L_e * np.array([x_B/3*x_A**3 - 1/4*x_A**4])\n",
    "    f1_x_B = 1/L_e * np.array([x_B/3*x_B**3 - 1/4*x_B**4])\n",
    "    f1 = f1_x_B - f1_x_A\n",
    "    \n",
    "    \n",
    "    f2_x_A = 1/L_e * np.array([1/4*x_A**4 - x_B/3*x_B**3])\n",
    "    f2_x_B = 1/L_e * np.array([1/4*x_B**4 - x_B/3*x_B**3])\n",
    "    f2 = f2_x_B - f2_x_A\n",
    "\n",
    "    f1s.append(f1)\n",
    "    f2s.append(f2)"
   ]
  },
  {
   "cell_type": "markdown",
   "metadata": {},
   "source": [
    "Ahora sí busco el vector $U$"
   ]
  },
  {
   "cell_type": "code",
   "execution_count": 42,
   "metadata": {},
   "outputs": [
    {
     "data": {
      "image/png": "[encoded data removed]",
      "text/plain": [
       "<Figure size 432x288 with 1 Axes>"
      ]
     },
     "metadata": {
      "needs_background": "light"
     },
     "output_type": "display_data"
    }
   ],
   "source": [
    "f = np.array([f1s[0], f1s[1] + f2s[0], f1s[2] + f2s[1], f2s[2]])\n",
    "\n",
    "u = np.zeros((nnodos, 1))\n",
    "u[1:-1] = np.dot(np.linalg.inv(k[1:-1, 1:-1]), f[1:-1])\n",
    "\n",
    "# u1 y u5 son datos conocidos\n",
    "u[0] = 0\n",
    "u[-1] = 0\n",
    "\n",
    "# Calculo q1 y q5\n",
    "q = np.zeros((nnodos, 1))\n",
    "q[0] = np.dot(k[0], u) - f[0]\n",
    "q[-1] = np.dot(k[-1], u) - f[-1]\n",
    "\n",
    "\n",
    "plt.plot(coorx, u, 'o-')\n",
    "# plt.plot(x,y, '-o')\n",
    "\n",
    "plt.show()"
   ]
  },
  {
   "cell_type": "markdown",
   "metadata": {},
   "source": [
    "No mirar, esto era para hacer un poco las ecuaciones \n",
    "\n",
    "### e = 1\n",
    "\n",
    "$K_{11}^{1} U_{1} + K_{12}^{1} U_{2} = f_{1}^{1} + Q_{1}^{1}$\n",
    "\n",
    "$K_{21}^{1} U_{1} + K_{22}^{1} U_{2} = f_{2}^{1} + Q_{2}^{1}$\n",
    "\n",
    "\n",
    "###e = 2\n",
    "\n",
    "$K_{11}^{2} U_{2} + K_{12}^{2} U_{3} = f_{1}^{2} + Q_{1}^{2}$\n",
    "\n",
    "$K_{21}^{2} U_{2} + K_{22}^{2} U_{3} = f_{2}^{2} + Q_{2}^{2}$\n",
    "\n",
    "\n",
    "\n",
    "###e = 1\n",
    "\n",
    "$K_{11}^{3} U_{3} + K_{}^{} U_{} = f_{}^{} + Q_{}^{}$\n",
    "\n",
    "$K_{}^{} U_{} + K_{}^{} U_{} = f_{}^{} + Q_{}^{}$\n",
    "\n",
    "\n",
    "\n",
    "\n",
    "#### nodo 1\n",
    "\n",
    "$K_{11}^1 U_{1} + K_{12}^1 U_2 = f_1 + Q_1$\n",
    "\n",
    "#### nodo 2\n",
    "$K_{21}^{1} U_{1} + (K_{22}^{1} + K_{11}^{2}) U_{2} + K_{12}^{3} U_{3} = (f_{2}^{1} + f_{1}^{2}) + (Q_{2}^{1} + Q_{1}^{2})$\n",
    "\n",
    "\n",
    "#### nodo 3\n",
    "$K_{21}^2 U_{2} + K_{22}^2 U_3 = f_3 + Q_3$\n",
    "\n"
   ]
  }
 ],
 "metadata": {
  "kernelspec": {
   "display_name": "Python 3",
   "language": "python",
   "name": "python3"
  },
  "language_info": {
   "codemirror_mode": {
    "name": "ipython",
    "version": 3
   },
   "file_extension": ".py",
   "mimetype": "text/x-python",
   "name": "python",
   "nbconvert_exporter": "python",
   "pygments_lexer": "ipython3",
   "version": "3.8.4"
  }
 },
 "nbformat": 4,
 "nbformat_minor": 4
}
